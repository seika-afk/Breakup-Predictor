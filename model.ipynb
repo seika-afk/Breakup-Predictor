{
 "cells": [
  {
   "cell_type": "code",
   "execution_count": 2,
   "id": "bf29a877-071f-49c5-b290-5529b8ece761",
   "metadata": {},
   "outputs": [],
   "source": [
    "import pandas as pd\n",
    "import numpy as np"
   ]
  },
  {
   "cell_type": "code",
   "execution_count": 3,
   "id": "480de421-20bf-4ad6-8cdf-68e5487cd834",
   "metadata": {},
   "outputs": [],
   "source": [
    "df= pd.read_csv(\"relationship_breakup_dataset.csv\")"
   ]
  },
  {
   "cell_type": "code",
   "execution_count": null,
   "id": "d78522b0-7aa9-4a69-8e9b-f77c0c0a2a37",
   "metadata": {},
   "outputs": [],
   "source": []
  },
  {
   "cell_type": "code",
   "execution_count": 4,
   "id": "7dfb7b36-5b9f-49f3-8c15-f0b5d6573f2b",
   "metadata": {},
   "outputs": [
    {
     "data": {
      "text/html": [
       "<div>\n",
       "<style scoped>\n",
       "    .dataframe tbody tr th:only-of-type {\n",
       "        vertical-align: middle;\n",
       "    }\n",
       "\n",
       "    .dataframe tbody tr th {\n",
       "        vertical-align: top;\n",
       "    }\n",
       "\n",
       "    .dataframe thead th {\n",
       "        text-align: right;\n",
       "    }\n",
       "</style>\n",
       "<table border=\"1\" class=\"dataframe\">\n",
       "  <thead>\n",
       "    <tr style=\"text-align: right;\">\n",
       "      <th></th>\n",
       "      <th>Post</th>\n",
       "      <th>Sentiment</th>\n",
       "      <th>Breakup_Label</th>\n",
       "      <th>Upvotes</th>\n",
       "      <th>Downvotes</th>\n",
       "      <th>Comment_Count</th>\n",
       "    </tr>\n",
       "  </thead>\n",
       "  <tbody>\n",
       "    <tr>\n",
       "      <th>0</th>\n",
       "      <td>I don't trust him anymore, I think the relatio...</td>\n",
       "      <td>0.000</td>\n",
       "      <td>1</td>\n",
       "      <td>410</td>\n",
       "      <td>98</td>\n",
       "      <td>93</td>\n",
       "    </tr>\n",
       "    <tr>\n",
       "      <th>1</th>\n",
       "      <td>We had a disagreement, but I think we'll work ...</td>\n",
       "      <td>0.000</td>\n",
       "      <td>0</td>\n",
       "      <td>85</td>\n",
       "      <td>97</td>\n",
       "      <td>36</td>\n",
       "    </tr>\n",
       "    <tr>\n",
       "      <th>2</th>\n",
       "      <td>Things aren't perfect, but I'm willing to fix it.</td>\n",
       "      <td>0.625</td>\n",
       "      <td>0</td>\n",
       "      <td>390</td>\n",
       "      <td>10</td>\n",
       "      <td>37</td>\n",
       "    </tr>\n",
       "    <tr>\n",
       "      <th>3</th>\n",
       "      <td>She cheated, and I don't know if I can forgive...</td>\n",
       "      <td>0.000</td>\n",
       "      <td>1</td>\n",
       "      <td>115</td>\n",
       "      <td>58</td>\n",
       "      <td>60</td>\n",
       "    </tr>\n",
       "    <tr>\n",
       "      <th>4</th>\n",
       "      <td>We had a disagreement, but I think we'll work ...</td>\n",
       "      <td>0.000</td>\n",
       "      <td>0</td>\n",
       "      <td>252</td>\n",
       "      <td>74</td>\n",
       "      <td>48</td>\n",
       "    </tr>\n",
       "  </tbody>\n",
       "</table>\n",
       "</div>"
      ],
      "text/plain": [
       "                                                Post  Sentiment  \\\n",
       "0  I don't trust him anymore, I think the relatio...      0.000   \n",
       "1  We had a disagreement, but I think we'll work ...      0.000   \n",
       "2  Things aren't perfect, but I'm willing to fix it.      0.625   \n",
       "3  She cheated, and I don't know if I can forgive...      0.000   \n",
       "4  We had a disagreement, but I think we'll work ...      0.000   \n",
       "\n",
       "   Breakup_Label  Upvotes  Downvotes  Comment_Count  \n",
       "0              1      410         98             93  \n",
       "1              0       85         97             36  \n",
       "2              0      390         10             37  \n",
       "3              1      115         58             60  \n",
       "4              0      252         74             48  "
      ]
     },
     "execution_count": 4,
     "metadata": {},
     "output_type": "execute_result"
    }
   ],
   "source": [
    "df.head()"
   ]
  },
  {
   "cell_type": "code",
   "execution_count": 5,
   "id": "00125eb2-d23e-4951-aa84-04f4555ae4a9",
   "metadata": {},
   "outputs": [
    {
     "data": {
      "text/plain": [
       "Index(['Post', 'Sentiment', 'Breakup_Label', 'Upvotes', 'Downvotes',\n",
       "       'Comment_Count'],\n",
       "      dtype='object')"
      ]
     },
     "execution_count": 5,
     "metadata": {},
     "output_type": "execute_result"
    }
   ],
   "source": [
    "df.columns"
   ]
  },
  {
   "cell_type": "code",
   "execution_count": 6,
   "id": "b9c4c781-ab72-4366-b4d1-c0c8a90a2155",
   "metadata": {},
   "outputs": [],
   "source": [
    "df.drop(columns=['Sentiment','Upvotes','Downvotes','Comment_Count'],inplace=True)"
   ]
  },
  {
   "cell_type": "code",
   "execution_count": 7,
   "id": "1b6395dd-e601-46af-a318-9a14277e96de",
   "metadata": {},
   "outputs": [
    {
     "data": {
      "text/html": [
       "<div>\n",
       "<style scoped>\n",
       "    .dataframe tbody tr th:only-of-type {\n",
       "        vertical-align: middle;\n",
       "    }\n",
       "\n",
       "    .dataframe tbody tr th {\n",
       "        vertical-align: top;\n",
       "    }\n",
       "\n",
       "    .dataframe thead th {\n",
       "        text-align: right;\n",
       "    }\n",
       "</style>\n",
       "<table border=\"1\" class=\"dataframe\">\n",
       "  <thead>\n",
       "    <tr style=\"text-align: right;\">\n",
       "      <th></th>\n",
       "      <th>Post</th>\n",
       "      <th>Breakup_Label</th>\n",
       "    </tr>\n",
       "  </thead>\n",
       "  <tbody>\n",
       "    <tr>\n",
       "      <th>0</th>\n",
       "      <td>I don't trust him anymore, I think the relatio...</td>\n",
       "      <td>1</td>\n",
       "    </tr>\n",
       "    <tr>\n",
       "      <th>1</th>\n",
       "      <td>We had a disagreement, but I think we'll work ...</td>\n",
       "      <td>0</td>\n",
       "    </tr>\n",
       "    <tr>\n",
       "      <th>2</th>\n",
       "      <td>Things aren't perfect, but I'm willing to fix it.</td>\n",
       "      <td>0</td>\n",
       "    </tr>\n",
       "    <tr>\n",
       "      <th>3</th>\n",
       "      <td>She cheated, and I don't know if I can forgive...</td>\n",
       "      <td>1</td>\n",
       "    </tr>\n",
       "    <tr>\n",
       "      <th>4</th>\n",
       "      <td>We had a disagreement, but I think we'll work ...</td>\n",
       "      <td>0</td>\n",
       "    </tr>\n",
       "  </tbody>\n",
       "</table>\n",
       "</div>"
      ],
      "text/plain": [
       "                                                Post  Breakup_Label\n",
       "0  I don't trust him anymore, I think the relatio...              1\n",
       "1  We had a disagreement, but I think we'll work ...              0\n",
       "2  Things aren't perfect, but I'm willing to fix it.              0\n",
       "3  She cheated, and I don't know if I can forgive...              1\n",
       "4  We had a disagreement, but I think we'll work ...              0"
      ]
     },
     "execution_count": 7,
     "metadata": {},
     "output_type": "execute_result"
    }
   ],
   "source": [
    "df.head()"
   ]
  },
  {
   "cell_type": "code",
   "execution_count": 8,
   "id": "7327ba6a-2165-4bfc-9b98-1a8c2846162b",
   "metadata": {},
   "outputs": [
    {
     "data": {
      "text/plain": [
       "(10000, 2)"
      ]
     },
     "execution_count": 8,
     "metadata": {},
     "output_type": "execute_result"
    }
   ],
   "source": [
    "df.shape"
   ]
  },
  {
   "cell_type": "code",
   "execution_count": 9,
   "id": "2fb9ec6c-19bb-4e39-8a13-6226b8523fe7",
   "metadata": {},
   "outputs": [
    {
     "data": {
      "text/html": [
       "<div>\n",
       "<style scoped>\n",
       "    .dataframe tbody tr th:only-of-type {\n",
       "        vertical-align: middle;\n",
       "    }\n",
       "\n",
       "    .dataframe tbody tr th {\n",
       "        vertical-align: top;\n",
       "    }\n",
       "\n",
       "    .dataframe thead th {\n",
       "        text-align: right;\n",
       "    }\n",
       "</style>\n",
       "<table border=\"1\" class=\"dataframe\">\n",
       "  <thead>\n",
       "    <tr style=\"text-align: right;\">\n",
       "      <th></th>\n",
       "      <th>Post</th>\n",
       "      <th>Breakup_Label</th>\n",
       "    </tr>\n",
       "  </thead>\n",
       "  <tbody>\n",
       "    <tr>\n",
       "      <th>0</th>\n",
       "      <td>I don't trust him anymore, I think the relatio...</td>\n",
       "      <td>1</td>\n",
       "    </tr>\n",
       "    <tr>\n",
       "      <th>1</th>\n",
       "      <td>We had a disagreement, but I think we'll work ...</td>\n",
       "      <td>0</td>\n",
       "    </tr>\n",
       "    <tr>\n",
       "      <th>2</th>\n",
       "      <td>Things aren't perfect, but I'm willing to fix it.</td>\n",
       "      <td>0</td>\n",
       "    </tr>\n",
       "    <tr>\n",
       "      <th>3</th>\n",
       "      <td>She cheated, and I don't know if I can forgive...</td>\n",
       "      <td>1</td>\n",
       "    </tr>\n",
       "    <tr>\n",
       "      <th>4</th>\n",
       "      <td>We had a disagreement, but I think we'll work ...</td>\n",
       "      <td>0</td>\n",
       "    </tr>\n",
       "    <tr>\n",
       "      <th>...</th>\n",
       "      <td>...</td>\n",
       "      <td>...</td>\n",
       "    </tr>\n",
       "    <tr>\n",
       "      <th>95</th>\n",
       "      <td>We’ve been through tough times before, and we’...</td>\n",
       "      <td>0</td>\n",
       "    </tr>\n",
       "    <tr>\n",
       "      <th>96</th>\n",
       "      <td>We had a disagreement, but I think we'll work ...</td>\n",
       "      <td>0</td>\n",
       "    </tr>\n",
       "    <tr>\n",
       "      <th>97</th>\n",
       "      <td>I feel like we're drifting apart, should I end...</td>\n",
       "      <td>1</td>\n",
       "    </tr>\n",
       "    <tr>\n",
       "      <th>98</th>\n",
       "      <td>We haven't talked in days, and I feel like I s...</td>\n",
       "      <td>1</td>\n",
       "    </tr>\n",
       "    <tr>\n",
       "      <th>99</th>\n",
       "      <td>I feel like I need some space, but I'm not thi...</td>\n",
       "      <td>0</td>\n",
       "    </tr>\n",
       "  </tbody>\n",
       "</table>\n",
       "<p>100 rows × 2 columns</p>\n",
       "</div>"
      ],
      "text/plain": [
       "                                                 Post  Breakup_Label\n",
       "0   I don't trust him anymore, I think the relatio...              1\n",
       "1   We had a disagreement, but I think we'll work ...              0\n",
       "2   Things aren't perfect, but I'm willing to fix it.              0\n",
       "3   She cheated, and I don't know if I can forgive...              1\n",
       "4   We had a disagreement, but I think we'll work ...              0\n",
       "..                                                ...            ...\n",
       "95  We’ve been through tough times before, and we’...              0\n",
       "96  We had a disagreement, but I think we'll work ...              0\n",
       "97  I feel like we're drifting apart, should I end...              1\n",
       "98  We haven't talked in days, and I feel like I s...              1\n",
       "99  I feel like I need some space, but I'm not thi...              0\n",
       "\n",
       "[100 rows x 2 columns]"
      ]
     },
     "execution_count": 9,
     "metadata": {},
     "output_type": "execute_result"
    }
   ],
   "source": [
    "df.head(100)"
   ]
  },
  {
   "cell_type": "markdown",
   "id": "7b37e42f-6077-470b-90d8-d92a8ca779b0",
   "metadata": {},
   "source": [
    "# converting words into vectors -> first tokenization ,lowering etc \n"
   ]
  },
  {
   "cell_type": "code",
   "execution_count": 10,
   "id": "33c16ba6-b9a1-4c8a-8918-449bed485ee0",
   "metadata": {},
   "outputs": [],
   "source": [
    "from nltk.corpus import stopwords\n",
    "from nltk.stem.porter import PorterStemmer\n",
    "from sklearn.feature_extraction.text import TfidfVectorizer\n"
   ]
  },
  {
   "cell_type": "code",
   "execution_count": 11,
   "id": "c8d53094-6f0c-4e94-a7b5-55411431ae84",
   "metadata": {},
   "outputs": [],
   "source": [
    "import re"
   ]
  },
  {
   "cell_type": "code",
   "execution_count": 12,
   "id": "4be94329-eed2-4436-b66b-864c0e98ee6c",
   "metadata": {},
   "outputs": [],
   "source": [
    "porter_stemmer = PorterStemmer()\n",
    "\n",
    "def stemmer (content):\n",
    "    st_content= re.sub('[^a-zA-Z]',' ',content)\n",
    "    st_content= st_content.lower()\n",
    "    st_content=st_content.split()\n",
    "    st_contetnt = [porter_stemmer.stem(word) for word in st_content if not word in stopwords.words('english')]\n",
    "    st_content= ' '.join(st_content)\n",
    "    return st_content"
   ]
  },
  {
   "cell_type": "code",
   "execution_count": 13,
   "id": "97dfdf7d-1bb1-4a60-9355-5fdec4cefbc4",
   "metadata": {},
   "outputs": [],
   "source": [
    "df[\"Post\"] = df[\"Post\"].apply(stemmer)"
   ]
  },
  {
   "cell_type": "code",
   "execution_count": 14,
   "id": "ee1c19ea-8c04-4105-9970-b7d5d903cced",
   "metadata": {},
   "outputs": [
    {
     "data": {
      "text/html": [
       "<div>\n",
       "<style scoped>\n",
       "    .dataframe tbody tr th:only-of-type {\n",
       "        vertical-align: middle;\n",
       "    }\n",
       "\n",
       "    .dataframe tbody tr th {\n",
       "        vertical-align: top;\n",
       "    }\n",
       "\n",
       "    .dataframe thead th {\n",
       "        text-align: right;\n",
       "    }\n",
       "</style>\n",
       "<table border=\"1\" class=\"dataframe\">\n",
       "  <thead>\n",
       "    <tr style=\"text-align: right;\">\n",
       "      <th></th>\n",
       "      <th>Post</th>\n",
       "      <th>Breakup_Label</th>\n",
       "    </tr>\n",
       "  </thead>\n",
       "  <tbody>\n",
       "    <tr>\n",
       "      <th>0</th>\n",
       "      <td>i don t trust him anymore i think the relation...</td>\n",
       "      <td>1</td>\n",
       "    </tr>\n",
       "    <tr>\n",
       "      <th>1</th>\n",
       "      <td>we had a disagreement but i think we ll work t...</td>\n",
       "      <td>0</td>\n",
       "    </tr>\n",
       "    <tr>\n",
       "      <th>2</th>\n",
       "      <td>things aren t perfect but i m willing to fix it</td>\n",
       "      <td>0</td>\n",
       "    </tr>\n",
       "    <tr>\n",
       "      <th>3</th>\n",
       "      <td>she cheated and i don t know if i can forgive ...</td>\n",
       "      <td>1</td>\n",
       "    </tr>\n",
       "    <tr>\n",
       "      <th>4</th>\n",
       "      <td>we had a disagreement but i think we ll work t...</td>\n",
       "      <td>0</td>\n",
       "    </tr>\n",
       "  </tbody>\n",
       "</table>\n",
       "</div>"
      ],
      "text/plain": [
       "                                                Post  Breakup_Label\n",
       "0  i don t trust him anymore i think the relation...              1\n",
       "1  we had a disagreement but i think we ll work t...              0\n",
       "2    things aren t perfect but i m willing to fix it              0\n",
       "3  she cheated and i don t know if i can forgive ...              1\n",
       "4  we had a disagreement but i think we ll work t...              0"
      ]
     },
     "execution_count": 14,
     "metadata": {},
     "output_type": "execute_result"
    }
   ],
   "source": [
    "df.head()"
   ]
  },
  {
   "cell_type": "markdown",
   "id": "4ab69735-4d5b-4d07-9330-6d2dd901edeb",
   "metadata": {},
   "source": [
    "# Vectorization"
   ]
  },
  {
   "cell_type": "markdown",
   "id": "2bf84aed-3ea9-408c-90a6-fdac94974673",
   "metadata": {},
   "source": [
    "can use snowfall,regexp,or other , but im comfy with tfidf"
   ]
  },
  {
   "cell_type": "code",
   "execution_count": 15,
   "id": "83b3ed3c-bd81-45a0-83b5-9be768c8b10b",
   "metadata": {},
   "outputs": [],
   "source": [
    "vectorizer = TfidfVectorizer()"
   ]
  },
  {
   "cell_type": "code",
   "execution_count": 16,
   "id": "d85bd524-997e-42a8-8e63-bbfcd60002fa",
   "metadata": {},
   "outputs": [],
   "source": [
    "x=df[\"Post\"]\n",
    "y=df[\"Breakup_Label\"]"
   ]
  },
  {
   "cell_type": "code",
   "execution_count": 17,
   "id": "f5ab3348-dc0e-4c50-b1ea-d33643e4bc41",
   "metadata": {},
   "outputs": [],
   "source": [
    "vectorizer.fit(x)\n",
    "x=vectorizer.transform(x)"
   ]
  },
  {
   "cell_type": "code",
   "execution_count": 18,
   "id": "87cdcb3a-da8a-48d8-a4d5-fff9c0095162",
   "metadata": {},
   "outputs": [
    {
     "data": {
      "text/plain": [
       "<10000x97 sparse matrix of type '<class 'numpy.float64'>'\n",
       "\twith 110186 stored elements in Compressed Sparse Row format>"
      ]
     },
     "execution_count": 18,
     "metadata": {},
     "output_type": "execute_result"
    }
   ],
   "source": [
    "x"
   ]
  },
  {
   "cell_type": "code",
   "execution_count": 19,
   "id": "04ef3402-1dec-46bf-93d7-ff6cfdc9d377",
   "metadata": {},
   "outputs": [],
   "source": [
    "from sklearn.model_selection import train_test_split\n",
    "\n",
    "x_train,x_test,y_train,y_test=train_test_split(x,y,test_size=0.2,random_state=45)"
   ]
  },
  {
   "cell_type": "markdown",
   "id": "a578f94e-acdb-4cee-aaac-c781d5880ced",
   "metadata": {},
   "source": [
    "### Time for model building"
   ]
  },
  {
   "cell_type": "code",
   "execution_count": 20,
   "id": "6ca37dd5-8bf8-4b3b-bc18-2dcb263a8f10",
   "metadata": {},
   "outputs": [],
   "source": [
    "from sklearn.linear_model import LogisticRegression\n",
    "from sklearn.svm import SVC\n",
    "from sklearn.tree import DecisionTreeClassifier\n",
    "from sklearn.ensemble import RandomForestClassifier\n",
    "from sklearn.metrics import accuracy_score"
   ]
  },
  {
   "cell_type": "code",
   "execution_count": 21,
   "id": "eba89b48-5f80-486f-b2cf-0351b16e6e86",
   "metadata": {},
   "outputs": [],
   "source": [
    "models = [LogisticRegression,SVC,DecisionTreeClassifier,RandomForestClassifier]"
   ]
  },
  {
   "cell_type": "code",
   "execution_count": 22,
   "id": "d6ab05fd-5bbd-4af2-8e9b-cf0f70302e86",
   "metadata": {},
   "outputs": [
    {
     "name": "stdout",
     "output_type": "stream",
     "text": [
      "Evaluating model : LogisticRegression\n",
      "1.0\n",
      "Evaluating model : SVC\n",
      "1.0\n",
      "Evaluating model : DecisionTreeClassifier\n",
      "1.0\n",
      "Evaluating model : RandomForestClassifier\n",
      "1.0\n"
     ]
    }
   ],
   "source": [
    "for model in models :\n",
    "    print(f\"Evaluating model : {model.__name__}\")\n",
    "\n",
    "    classifier= model().fit(x_train,y_train)\n",
    "    y_pred=classifier.predict(x_test)\n",
    "    print(accuracy_score(y_test, y_pred))\n",
    "\n"
   ]
  },
  {
   "cell_type": "code",
   "execution_count": 50,
   "id": "d737082e-3cd1-43bb-b7bb-d99d7bbaadcb",
   "metadata": {},
   "outputs": [
    {
     "data": {
      "text/plain": [
       "array([0])"
      ]
     },
     "execution_count": 50,
     "metadata": {},
     "output_type": "execute_result"
    }
   ],
   "source": [
    "model=LogisticRegression()\n",
    "classifer=model.fit(x_train,y_train)\n",
    "text=\"we dont talk\"\n",
    "\n",
    "text=stemmer(text)\n",
    "\n",
    "text=vectorizer.transform([text])\n",
    "res=model.predict(text)\n",
    "res\n"
   ]
  },
  {
   "cell_type": "code",
   "execution_count": null,
   "id": "c0cd17ad-febf-4e27-ab47-eb1862cf214d",
   "metadata": {},
   "outputs": [],
   "source": []
  },
  {
   "cell_type": "code",
   "execution_count": null,
   "id": "d1f2123e-5ac8-4875-b9a3-16ee4572cec6",
   "metadata": {},
   "outputs": [],
   "source": []
  }
 ],
 "metadata": {
  "kernelspec": {
   "display_name": "Python 3 (ipykernel)",
   "language": "python",
   "name": "python3"
  },
  "language_info": {
   "codemirror_mode": {
    "name": "ipython",
    "version": 3
   },
   "file_extension": ".py",
   "mimetype": "text/x-python",
   "name": "python",
   "nbconvert_exporter": "python",
   "pygments_lexer": "ipython3",
   "version": "3.9.1"
  }
 },
 "nbformat": 4,
 "nbformat_minor": 5
}
